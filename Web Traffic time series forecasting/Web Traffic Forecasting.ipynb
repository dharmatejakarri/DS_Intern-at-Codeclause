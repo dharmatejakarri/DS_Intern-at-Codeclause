{
 "cells": [
  {
   "cell_type": "code",
   "execution_count": 1,
   "id": "6ca9d5a1",
   "metadata": {},
   "outputs": [],
   "source": [
    "# Importing the required libraries\n",
    "import pandas as pd\n",
    "from prophet import Prophet\n",
    "import matplotlib.pyplot as plt"
   ]
  },
  {
   "cell_type": "code",
   "execution_count": 2,
   "id": "8038511c",
   "metadata": {},
   "outputs": [],
   "source": [
    "# Read the data into a pandas DataFrame\n",
    "data = pd.read_csv('train_1.csv')"
   ]
  },
  {
   "cell_type": "code",
   "execution_count": 3,
   "id": "e00f547d",
   "metadata": {},
   "outputs": [
    {
     "name": "stdout",
     "output_type": "stream",
     "text": [
      "Data shape: (145063, 551)\n",
      "Data head:\n",
      "                                                Page  2015-07-01  2015-07-02  \\\n",
      "0            2NE1_zh.wikipedia.org_all-access_spider        18.0        11.0   \n",
      "1             2PM_zh.wikipedia.org_all-access_spider        11.0        14.0   \n",
      "2              3C_zh.wikipedia.org_all-access_spider         1.0         0.0   \n",
      "3         4minute_zh.wikipedia.org_all-access_spider        35.0        13.0   \n",
      "4  52_Hz_I_Love_You_zh.wikipedia.org_all-access_s...         NaN         NaN   \n",
      "\n",
      "   2015-07-03  2015-07-04  2015-07-05  2015-07-06  2015-07-07  2015-07-08  \\\n",
      "0         5.0        13.0        14.0         9.0         9.0        22.0   \n",
      "1        15.0        18.0        11.0        13.0        22.0        11.0   \n",
      "2         1.0         1.0         0.0         4.0         0.0         3.0   \n",
      "3        10.0        94.0         4.0        26.0        14.0         9.0   \n",
      "4         NaN         NaN         NaN         NaN         NaN         NaN   \n",
      "\n",
      "   2015-07-09  ...  2016-12-22  2016-12-23  2016-12-24  2016-12-25  \\\n",
      "0        26.0  ...        32.0        63.0        15.0        26.0   \n",
      "1        10.0  ...        17.0        42.0        28.0        15.0   \n",
      "2         4.0  ...         3.0         1.0         1.0         7.0   \n",
      "3        11.0  ...        32.0        10.0        26.0        27.0   \n",
      "4         NaN  ...        48.0         9.0        25.0        13.0   \n",
      "\n",
      "   2016-12-26  2016-12-27  2016-12-28  2016-12-29  2016-12-30  2016-12-31  \n",
      "0        14.0        20.0        22.0        19.0        18.0        20.0  \n",
      "1         9.0        30.0        52.0        45.0        26.0        20.0  \n",
      "2         4.0         4.0         6.0         3.0         4.0        17.0  \n",
      "3        16.0        11.0        17.0        19.0        10.0        11.0  \n",
      "4         3.0        11.0        27.0        13.0        36.0        10.0  \n",
      "\n",
      "[5 rows x 551 columns]\n"
     ]
    }
   ],
   "source": [
    "# Perform basic data exploration\n",
    "print(\"Data shape:\", data.shape)\n",
    "print(\"Data head:\")\n",
    "print(data.head())"
   ]
  },
  {
   "cell_type": "code",
   "execution_count": null,
   "id": "6aea121b",
   "metadata": {},
   "outputs": [],
   "source": [
    "# Transpose the DataFrame to make time series as rows\n",
    "data = data.transpose()\n",
    "data.columns = data.iloc[0]\n",
    "data = data[1:]\n",
    "\n",
    "# Select columns starting from the second column and convert them to datetime format\n",
    "date_columns = data.columns[1:]\n",
    "data[date_columns] = data[date_columns].apply(pd.to_datetime)"
   ]
  },
  {
   "cell_type": "code",
   "execution_count": null,
   "id": "3d999ff8",
   "metadata": {},
   "outputs": [],
   "source": [
    "# Prepare the data for Prophet\n",
    "prophet_data = pd.DataFrame({'ds': data.columns[1:], 'y': data.mean(axis=0)})"
   ]
  },
  {
   "cell_type": "code",
   "execution_count": null,
   "id": "ba7faa23",
   "metadata": {},
   "outputs": [],
   "source": [
    "# Create and fit the Prophet model\n",
    "model = Prophet()\n",
    "model.fit(prophet_data)\n",
    "\n",
    "# Specify the number of future periods to forecast\n",
    "future_periods = 30"
   ]
  },
  {
   "cell_type": "code",
   "execution_count": null,
   "id": "cbc0e234",
   "metadata": {},
   "outputs": [],
   "source": [
    "# Generate future dates\n",
    "future_dates = model.make_future_dataframe(periods=future_periods, freq='D')\n",
    "\n",
    "# Make predictions for the future dates\n",
    "forecast = model.predict(future_dates)"
   ]
  },
  {
   "cell_type": "code",
   "execution_count": null,
   "id": "82ef6e29",
   "metadata": {},
   "outputs": [],
   "source": [
    "# Plotting the forecasted values\n",
    "model.plot(forecast, xlabel='Date', ylabel='Traffic')\n",
    "plt.title('Web Traffic Time Series Forecast')\n",
    "plt.show()"
   ]
  },
  {
   "cell_type": "code",
   "execution_count": null,
   "id": "19041292",
   "metadata": {},
   "outputs": [],
   "source": [
    "# Extracting insights from the forecasted data\n",
    "forecasted_traffic = forecast[['ds', 'yhat', 'yhat_lower', 'yhat_upper']].tail(future_periods)\n",
    "\n",
    "# Displaying the forecasted values\n",
    "print(forecasted_traffic)"
   ]
  }
 ],
 "metadata": {
  "kernelspec": {
   "display_name": "Python 3 (ipykernel)",
   "language": "python",
   "name": "python3"
  },
  "language_info": {
   "codemirror_mode": {
    "name": "ipython",
    "version": 3
   },
   "file_extension": ".py",
   "mimetype": "text/x-python",
   "name": "python",
   "nbconvert_exporter": "python",
   "pygments_lexer": "ipython3",
   "version": "3.10.9"
  }
 },
 "nbformat": 4,
 "nbformat_minor": 5
}
