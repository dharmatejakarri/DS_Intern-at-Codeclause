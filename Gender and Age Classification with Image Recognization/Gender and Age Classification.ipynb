{
 "cells": [
  {
   "cell_type": "code",
   "execution_count": 1,
   "id": "79b66906",
   "metadata": {},
   "outputs": [],
   "source": [
    "import os\n",
    "import cv2\n",
    "import numpy as np\n",
    "import tensorflow as tf\n",
    "from sklearn.model_selection import train_test_split\n",
    "from sklearn.metrics import accuracy_score\n",
    "from tensorflow.keras.models import Sequential\n",
    "from tensorflow.keras.layers import Conv2D, MaxPooling2D, Flatten, Dense"
   ]
  },
  {
   "cell_type": "code",
   "execution_count": 2,
   "id": "c4c40514",
   "metadata": {},
   "outputs": [],
   "source": [
    "# Path to the dataset directory\n",
    "dataset_dir = 'C:\\\\Users\\\\notif\\\\Code Clause Internship\\\\Gender and Age Classification with Image Recognization\\\\UTKFace'\n",
    "\n",
    "# Create empty lists for images and labels\n",
    "images = []\n",
    "gender_labels = []\n",
    "age_labels = []\n",
    "\n",
    "# Iterate over the dataset folder structure\n",
    "for root, dirs, files in os.walk(dataset_dir):\n",
    "    for file in files:\n",
    "        # Get the file path and labels from the file name\n",
    "        image_path = os.path.join(root, file)\n",
    "        age, gender = file.split('_')[:2]\n",
    "\n",
    "        # Load and preprocess the image\n",
    "        image = cv2.imread(image_path, cv2.IMREAD_GRAYSCALE)\n",
    "        image = cv2.resize(image, (128, 128))\n",
    "        image = image.astype('float32') / 255.0\n",
    "\n",
    "        # Append the preprocessed image and labels\n",
    "        images.append(image)\n",
    "        gender_labels.append(int(gender))\n",
    "        age_labels.append(int(age))"
   ]
  },
  {
   "cell_type": "code",
   "execution_count": 3,
   "id": "61331cd1",
   "metadata": {},
   "outputs": [],
   "source": [
    "# Convert the lists to NumPy arrays\n",
    "X = np.array(images)\n",
    "y_gender = np.array(gender_labels)\n",
    "y_age = np.array(age_labels)\n",
    "\n",
    "# Split the dataset into training and testing sets\n",
    "X_train, X_test, y_gender_train, y_gender_test, y_age_train, y_age_test = train_test_split(\n",
    "    X, y_gender, y_age, test_size=0.2, random_state=42)"
   ]
  },
  {
   "cell_type": "code",
   "execution_count": 4,
   "id": "12e677a3",
   "metadata": {},
   "outputs": [],
   "source": [
    "# Gender Detection Model\n",
    "gender_model = Sequential()\n",
    "gender_model.add(Conv2D(32, kernel_size=(3, 3), activation='relu', input_shape=(128, 128, 1)))\n",
    "gender_model.add(MaxPooling2D(pool_size=(2, 2)))\n",
    "gender_model.add(Conv2D(64, kernel_size=(3, 3), activation='relu'))\n",
    "gender_model.add(MaxPooling2D(pool_size=(2, 2)))\n",
    "gender_model.add(Flatten())\n",
    "gender_model.add(Dense(128, activation='relu'))\n",
    "gender_model.add(Dense(1, activation='sigmoid'))"
   ]
  },
  {
   "cell_type": "code",
   "execution_count": 5,
   "id": "b69d74ce",
   "metadata": {},
   "outputs": [],
   "source": [
    "# Age Estimation Model\n",
    "age_model = Sequential()\n",
    "age_model.add(Conv2D(32, kernel_size=(3, 3), activation='relu', input_shape=(128, 128, 1)))\n",
    "age_model.add(MaxPooling2D(pool_size=(2, 2)))\n",
    "age_model.add(Conv2D(64, kernel_size=(3, 3), activation='relu'))\n",
    "age_model.add(MaxPooling2D(pool_size=(2, 2)))\n",
    "age_model.add(Flatten())\n",
    "age_model.add(Dense(128, activation='relu'))\n",
    "age_model.add(Dense(1, activation='linear'))"
   ]
  },
  {
   "cell_type": "code",
   "execution_count": 6,
   "id": "ed4a0592",
   "metadata": {},
   "outputs": [
    {
     "name": "stdout",
     "output_type": "stream",
     "text": [
      "Epoch 1/10\n",
      "149/149 [==============================] - 139s 753ms/step - loss: 0.5519 - accuracy: 0.7185\n",
      "Epoch 2/10\n",
      "149/149 [==============================] - 117s 783ms/step - loss: 0.3599 - accuracy: 0.8428\n",
      "Epoch 3/10\n",
      "149/149 [==============================] - 92s 618ms/step - loss: 0.3076 - accuracy: 0.8679\n",
      "Epoch 4/10\n",
      "149/149 [==============================] - 93s 624ms/step - loss: 0.2801 - accuracy: 0.8819\n",
      "Epoch 5/10\n",
      "149/149 [==============================] - 99s 666ms/step - loss: 0.2519 - accuracy: 0.8935\n",
      "Epoch 6/10\n",
      "149/149 [==============================] - 109s 728ms/step - loss: 0.2264 - accuracy: 0.9051\n",
      "Epoch 7/10\n",
      "149/149 [==============================] - 112s 752ms/step - loss: 0.2043 - accuracy: 0.9156\n",
      "Epoch 8/10\n",
      "149/149 [==============================] - 119s 799ms/step - loss: 0.1852 - accuracy: 0.9272\n",
      "Epoch 9/10\n",
      "149/149 [==============================] - 113s 758ms/step - loss: 0.1689 - accuracy: 0.9316\n",
      "Epoch 10/10\n",
      "149/149 [==============================] - 112s 751ms/step - loss: 0.1515 - accuracy: 0.9404\n",
      "Epoch 1/10\n",
      "149/149 [==============================] - 112s 742ms/step - loss: 14.7994\n",
      "Epoch 2/10\n",
      "149/149 [==============================] - 110s 740ms/step - loss: 11.1321\n",
      "Epoch 3/10\n",
      "149/149 [==============================] - 108s 722ms/step - loss: 9.8446\n",
      "Epoch 4/10\n",
      "149/149 [==============================] - 108s 722ms/step - loss: 9.1361\n",
      "Epoch 5/10\n",
      "149/149 [==============================] - 107s 721ms/step - loss: 8.5979\n",
      "Epoch 6/10\n",
      "149/149 [==============================] - 107s 721ms/step - loss: 8.3054\n",
      "Epoch 7/10\n",
      "149/149 [==============================] - 2112s 14s/step - loss: 7.6776\n",
      "Epoch 8/10\n",
      "149/149 [==============================] - 119s 801ms/step - loss: 7.2905\n",
      "Epoch 10/10\n",
      "149/149 [==============================] - 144s 967ms/step - loss: 6.9592\n"
     ]
    },
    {
     "data": {
      "text/plain": [
       "<keras.callbacks.History at 0x19241bfb790>"
      ]
     },
     "execution_count": 6,
     "metadata": {},
     "output_type": "execute_result"
    }
   ],
   "source": [
    "# Compile the models\n",
    "gender_model.compile(loss='binary_crossentropy', optimizer='adam', metrics=['accuracy'])\n",
    "age_model.compile(loss='mean_absolute_error', optimizer='adam')\n",
    "\n",
    "# Reshape the input data for training\n",
    "X_train = X_train.reshape(X_train.shape[0], 128, 128, 1)\n",
    "X_test = X_test.reshape(X_test.shape[0], 128, 128, 1)\n",
    "\n",
    "# Train the models\n",
    "gender_model.fit(X_train, y_gender_train, batch_size=128, epochs=10, verbose=1)\n",
    "age_model.fit(X_train, y_age_train, batch_size=128, epochs=10, verbose=1)\n"
   ]
  },
  {
   "cell_type": "code",
   "execution_count": 7,
   "id": "ba650717",
   "metadata": {},
   "outputs": [
    {
     "name": "stdout",
     "output_type": "stream",
     "text": [
      "149/149 [==============================] - 10s 55ms/step\n",
      "Gender Accuracy: 0.8907633909742725\n"
     ]
    }
   ],
   "source": [
    "# Evaluate the gender model\n",
    "y_gender_pred = np.round(gender_model.predict(X_test))\n",
    "gender_accuracy = accuracy_score(y_gender_test, y_gender_pred)\n",
    "print(\"Gender Accuracy:\", gender_accuracy)"
   ]
  },
  {
   "cell_type": "code",
   "execution_count": 8,
   "id": "e424718e",
   "metadata": {},
   "outputs": [
    {
     "name": "stdout",
     "output_type": "stream",
     "text": [
      "149/149 [==============================] - 10s 61ms/step\n",
      "Age Accuracy: 0.07612821594264024\n"
     ]
    }
   ],
   "source": [
    "# Evaluate the age model\n",
    "y_age_pred = np.round(age_model.predict(X_test))\n",
    "age_accuracy = accuracy_score(y_age_test, y_age_pred)\n",
    "print(\"Age Accuracy:\", age_accuracy)"
   ]
  },
  {
   "cell_type": "code",
   "execution_count": 9,
   "id": "d0335ea5",
   "metadata": {},
   "outputs": [],
   "source": [
    "from sklearn.model_selection import train_test_split\n",
    "from sklearn.metrics import mean_absolute_error\n",
    "from sklearn.ensemble import RandomForestRegressor\n",
    "import xgboost as xgb"
   ]
  },
  {
   "cell_type": "code",
   "execution_count": 10,
   "id": "ecdce66c",
   "metadata": {},
   "outputs": [],
   "source": [
    "# Gender Detection Model (CNN)\n",
    "gender_model = Sequential()\n",
    "# Architecture same as before, please refer to Step 4 of the previous code.\n",
    "\n",
    "# Age Estimation Model (Random Forest)\n",
    "age_model_rf = RandomForestRegressor(n_estimators=100, random_state=42)\n",
    "\n",
    "# Age Estimation Model (XGBoost)\n",
    "age_model_xgb = xgb.XGBRegressor(objective='reg:squarederror', random_state=42)"
   ]
  },
  {
   "cell_type": "code",
   "execution_count": null,
   "id": "0e9599dc",
   "metadata": {},
   "outputs": [],
   "source": [
    "# Train the gender detection model (CNN)\n",
    "# Please refer to Step 5 of the previous code.\n",
    "# Train the age estimation models (Random Forest and XGBoost)\n",
    "# Flatten the input data\n",
    "\n",
    "X_train_flattened = X_train.reshape(X_train.shape[0], -1)\n",
    "\n",
    "# Train the Random Forest model\n",
    "age_model_rf.fit(X_train_flattened, y_age_train)\n",
    "\n",
    "# Train the XGBoost model\n",
    "age_model_xgb.fit(X_train_flattened, y_age_train)"
   ]
  },
  {
   "cell_type": "code",
   "execution_count": null,
   "id": "4318b02a",
   "metadata": {},
   "outputs": [],
   "source": [
    "# Preprocess the testing data\n",
    "X_test_flattened = X_test.reshape(X_test.shape[0], -1)\n",
    "\n",
    "# Predict the gender using the CNN model\n",
    "y_gender_pred = np.round(gender_model.predict(X_test))\n",
    "gender_accuracy = accuracy_score(y_gender_test, y_gender_pred)\n",
    "print(\"Gender Accuracy:\", gender_accuracy)\n",
    "\n",
    "# Predict the age using the Random Forest model\n",
    "y_age_pred_rf = age_model_rf.predict(X_test_flattened)\n",
    "age_mae_rf = mean_absolute_error(y_age_test, y_age_pred_rf)\n",
    "print(\"Age MAE (Random Forest):\", age_mae_rf)\n",
    "\n",
    "# Predict the age using the XGBoost model\n",
    "X_test_xgb = xgb.DMatrix(X_test_flattened)\n",
    "y_age_pred_xgb = age_model_xgb.predict(X_test_xgb)\n",
    "age_mae_xgb = mean_absolute_error(y_age_test, y_age_pred_xgb)\n",
    "print(\"Age MAE (XGBoost):\", age_mae_xgb)"
   ]
  },
  {
   "cell_type": "code",
   "execution_count": null,
   "id": "b5d6f2aa",
   "metadata": {},
   "outputs": [],
   "source": []
  }
 ],
 "metadata": {
  "kernelspec": {
   "display_name": "Python 3 (ipykernel)",
   "language": "python",
   "name": "python3"
  },
  "language_info": {
   "codemirror_mode": {
    "name": "ipython",
    "version": 3
   },
   "file_extension": ".py",
   "mimetype": "text/x-python",
   "name": "python",
   "nbconvert_exporter": "python",
   "pygments_lexer": "ipython3",
   "version": "3.10.9"
  }
 },
 "nbformat": 4,
 "nbformat_minor": 5
}
